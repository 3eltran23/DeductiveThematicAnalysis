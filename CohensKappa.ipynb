{
 "cells": [
  {
   "cell_type": "code",
   "execution_count": 78,
   "metadata": {},
   "outputs": [],
   "source": [
    "import pandas as pd\n",
    "from sklearn.metrics import cohen_kappa_score\n"
   ]
  },
  {
   "cell_type": "code",
   "execution_count": 79,
   "metadata": {},
   "outputs": [],
   "source": [
    "PATH = \"./Data\"\n",
    "\n",
    "DG = \"Augumented Qualitativel Analysis Minor Themes Codebook - DG.xlsx\"\n",
    "MG = \"Augmented Qualitative Analysis Minor Themes Codebook - MG.xlsx\""
   ]
  },
  {
   "cell_type": "code",
   "execution_count": 80,
   "metadata": {},
   "outputs": [],
   "source": [
    "def getCategories(df):\n",
    "    y = []\n",
    "    for _, row in df.iterrows():\n",
    "        result = next((column for column, value in row.items() if value == 'Yes'), 'NA')\n",
    "        y.append(result)\n",
    "\n",
    "    return y\n",
    "\n"
   ]
  },
  {
   "cell_type": "code",
   "execution_count": 81,
   "metadata": {},
   "outputs": [
    {
     "name": "stdout",
     "output_type": "stream",
     "text": [
      "Number of rows: 157\n"
     ]
    }
   ],
   "source": [
    "dg_df = pd.read_excel(f'{PATH}/{DG}')\n",
    "dg_df = dg_df[dg_df.columns[1:]]\n",
    "print(\"Number of rows:\", dg_df.shape[0])\n",
    "\n",
    "y1 = getCategories(dg_df)\n",
    "\n"
   ]
  },
  {
   "cell_type": "code",
   "execution_count": 86,
   "metadata": {},
   "outputs": [
    {
     "name": "stdout",
     "output_type": "stream",
     "text": [
      "Number of rows: 156\n"
     ]
    }
   ],
   "source": [
    "mg_df = pd.read_excel(f'{PATH}/{MG}')\n",
    "mg_df = mg_df[mg_df.columns[1:]]\n",
    "print(\"Number of rows:\", mg_df.shape[0])\n",
    "\n",
    "y2 = getCategories(mg_df)"
   ]
  },
  {
   "cell_type": "code",
   "execution_count": 98,
   "metadata": {},
   "outputs": [
    {
     "name": "stdout",
     "output_type": "stream",
     "text": [
      "true\n",
      "true\n",
      "true\n",
      "true\n",
      "true\n",
      "true\n",
      "true\n",
      "true\n",
      "true\n",
      "true\n",
      "true\n",
      "true\n",
      "true\n",
      "true\n",
      "true\n",
      "true\n",
      "true\n",
      "He needs to start exercising more as COVID has kind of made him very sedimentary, so I think I want to use it for tracking his steps and activity and maybe setting some little reminders. \" He needs to start exercising more as COVID has kind of made him very sedimentary, so I think I want to use it for tracking his steps and activity and maybe setting some little reminders. \"Okay, you need to get up and do 20 jumping jacks,\" or something like that.\n",
      "\n",
      "Okay, you need to get up and do 20 jumping jacks,\" or something like that. Yes. \n",
      "Yes.  What did you think your son felt about the smartwatches before he got the smartwatch?\n",
      "What did you think your son felt about the smartwatches before he got the smartwatch? I don't know, really.\n",
      "I don't know, really. He hasn't asked to have one. \n",
      "\n",
      "He hasn't asked to have one. \n",
      " His dad has one and he's seen my Fitbit, but he's kind of more attached to the actual phone than, I would say, a watch. \n",
      "His dad has one and he's seen my Fitbit, but he's kind of more attached to the actual phone than, I would say, a watch.  He hasn't [inaudible 00:02:06].\n",
      "\n",
      "He hasn't [inaudible 00:02:06].\n",
      " I'd say he probably wasn't interested until he kind of learned about the study and stuff.\n",
      "I'd say he probably wasn't interested until he kind of learned about the study and stuff. And what happened when he received that smartwatch?\n",
      "And what happened when he received that smartwatch? I wasn't with him, so I don't know, but I'm sure he was excited. \n",
      "I wasn't with him, so I don't know, but I'm sure he was excited.  He unboxed it and did all of the stuff with his dad.\n",
      "He unboxed it and did all of the stuff with his dad. Okay.\n",
      "Okay. I know he didn't have that smartwatch now, but how does he feel right now with the smartwatch?\n",
      "I know he didn't have that smartwatch now, but how does he feel right now with the smartwatch? That he doesn't have it?\n",
      "That he doesn't have it? Yeah\n",
      "Yeah That he doesn't have it, yeah?\n",
      "That he doesn't have it, yeah? Yes.\n",
      "Yes. He wants to continue with the study.\n",
      "He wants to continue with the study. He asks about it. \n",
      "He asks about it.   I know at graduation, he was told by Aria that, \"Yeah, you could continue with it,\" so I think he's looking forward to that, but other things probably removed that thought from his mind, so he hasn't asked.\n",
      " I know at graduation, he was told by Aria that, \"Yeah, you could continue with it,\" so I think he's looking forward to that, but other things probably removed that thought from his mind, so he hasn't asked. But I'm sure when I say, \"Oh, okay, we're onto phase two,\" and he'll be excited about it.\n",
      "But I'm sure when I say, \"Oh, okay, we're onto phase two,\" and he'll be excited about it. What would you say was your role or the use of the smartwatch?\n",
      "\n",
      "What would you say was your role or the use of the smartwatch?\n",
      " Either your role or your husband role.\n",
      "Either your role or your husband role. So, what were our roles with helping Reed Richards how to use it?\n",
      "\n",
      "So, what were our roles with helping Reed Richards how to use it?\n",
      " Yes.\n",
      "Yes. We sometimes had to remind him to sync, or if he didn't sync, I would ask him and then I would sync for him, so just kind of reminding him of what his responsibilities were during the study, like to respond to the messages about how he was feeling and then making sure he synced everything.\n",
      "\n",
      "We sometimes had to remind him to sync, or if he didn't sync, I would ask him and then I would sync for him, so just kind of reminding him of what his responsibilities were during the study, like to respond to the messages about how he was feeling and then making sure he synced everything.\n",
      " Okay. \n",
      "Okay.  How do you feel about serving in that role?\n",
      "How do you feel about serving in that role? It's fine. \n",
      "It's fine.  It's typical with Reed Richards. \n",
      "It's typical with Reed Richards.  You need to remind him [inaudible 00:04:10], so it's fine.\n",
      "You need to remind him [inaudible 00:04:10], so it's fine. Okay.\n",
      "Okay. What do you think was the most useful part for the smartwatch?\n",
      "What do you think was the most useful part for the smartwatch? The most useful part? \n",
      "The most useful part?  Well, as I said, I don't think we really used it as much as we could have since I wasn't really aware that there were further capabilities that we could use other than just responding to the messages. \n",
      "Well, as I said, I don't think we really used it as much as we could have since I wasn't really aware that there were further capabilities that we could use other than just responding to the messages.  I think during phase two, we'll definitely use it more and take advantage of the capabilities.\n",
      "I think during phase two, we'll definitely use it more and take advantage of the capabilities. What do you think is the less useful part or the part that you had more troubles?\n",
      "What do you think is the less useful part or the part that you had more troubles? I would say sometimes getting it to sync.\n",
      "I would say sometimes getting it to sync.  Sometimes, we would have to restart the phone or check the batteries, make sure everything's charged and stuff like that. \n",
      " Sometimes, we would have to restart the phone or check the batteries, make sure everything's charged and stuff like that.  So, sometimes the sync would be a little bit difficult.\n",
      "So, sometimes the sync would be a little bit difficult. You'd have to try a couple times.\n",
      "You'd have to try a couple times. In what ways do you believe the smartwatch affect the behavior of your child, if it affects?\n",
      "In what ways do you believe the smartwatch affect the behavior of your child, if it affects? I think it kept him more conscientious of how he was reacting to, maybe, situations. \n",
      "I think it kept him more conscientious of how he was reacting to, maybe, situations.  I guess it just kind of reminded him of, \"Oh, hey, I need to watch certain things and remain calmer.\"\n",
      "I guess it just kind of reminded him of, \"Oh, hey, I need to watch certain things and remain calmer.\" I think it was just kind of a little reminder.\n",
      "I think it was just kind of a little reminder. In what ways do you believe the smartwatch affects your child's ability to pay attention?\n",
      "In what ways do you believe the smartwatch affects your child's ability to pay attention?  Or it was more used as a distraction?\n",
      "Or it was more used as a distraction? I don't think it was a distraction.\n",
      "I don't think it was a distraction.  How it helped him pay attention, I don't know.\n",
      "How it helped him pay attention, I don't know. Just maybe the feel of it being on his wrist was kind of a reminder that I need to keep myself in check.\n",
      "Just maybe the feel of it being on his wrist was kind of a reminder that I need to keep myself in check. I think maybe just that alone was his reminder.\n",
      "I think maybe just that alone was his reminder. Are you familiar with the concept of self-regulation?\n",
      "Are you familiar with the concept of self-regulation? Self-regulation?\n",
      "Self-regulation? A little bit, yes.\n",
      "Yes. Mm-hmm (affirmative).\n",
      "A little bit, yes. Do you believe the smartwatch has the potential to assist your kid in develop or maintaining self-regulation skills?\n",
      "Mm-hmm (affirmative). I think it would help if they had other detection things.\n",
      "Do you believe the smartwatch has the potential to assist your kid in develop or maintaining self-regulation skills? I think they have heart rate, but when he starts to escalate into something, he tends to get overheated, so it would be kind of neat if they had a temperature thing, and like, \"Oh, hey.\"\n",
      "I think it would help if they had other detection things.  But yeah, I think it would help if there was a bit more technology to kind of alert him, \"Hey, your heart rate's starting to go up,\" or something.\n",
      "I think they have heart rate, but when he starts to escalate into something, he tends to get overheated, so it would be kind of neat if they had a temperature thing, and like, \"Oh, hey.\" Okay.\n",
      "But yeah, I think it would help if there was a bit more technology to kind of alert him, \"Hey, your heart rate's starting to go up,\" or something. In what ways do you believe the smartwatch affect your child's organizational skills?\n",
      "Okay.  I don't think it affected it at all.\n",
      "In what ways do you believe the smartwatch affect your child's organizational skills? At all, okay.\n",
      "I don't think it affected it at all. What about physical activity?\n",
      "At all, okay.  I'd say no, not much, but I want to take more advantage of that during this next part.\n",
      "What about physical activity? We put on the smartwatch the schedule for the school.\n",
      "I'd say no, not much, but I want to take more advantage of that during this next part. Did he receive notification about that?\n",
      "We put on the smartwatch the schedule for the school.  I don't think he did because I never saw those notifications.\n",
      "Did he receive notification about that? Okay.\n",
      "I don't think he did because I never saw those notifications. Did you check on the iPhone the results or some kind of information for the watch?\n",
      "Okay.  We looked up the cool Craig app and stuff, so we saw that there.\n",
      "Did you check on the iPhone the results or some kind of information for the watch? But do you have a chance to check the...\n",
      "We looked up the cool Craig app and stuff, so we saw that there. I think it's the HealthKit app from Apple.\n",
      "But do you have a chance to check the... I think it's the HealthKit app from Apple. No, we didn't look at that.\n",
      "No, we didn't look at that. Okay.\n",
      "Okay.  Well, I think those are my question.\n",
      "Well, I think those are my question.  Do you have any questions for me?\n",
      "Do you have any questions for me? No.\n",
      "No. I know he's excited for stage two.\n",
      "I know he's excited for stage two. In the stage two, what I'm going to do is we're going to install an application to the smartwatch and in the smartphone.\n",
      "In the stage two, what I'm going to do is we're going to install an application to the smartwatch and in the smartphone.  In that application, on the phone, you are going to be able to add daily or weekly goals.\n",
      "In that application, on the phone, you are going to be able to add daily or weekly goals. It will be a kind of a to-do list.\n",
      "It will be a kind of a to-do list.  And then he is going to have those goals on the watch, but there is no reminder, so he needs to go to the app to check that to-do list.\n",
      "And then he is going to have those goals on the watch, but there is no reminder, so he needs to go to the app to check that to-do list.  But what he can do is he can decide if he accomplish or not the goal.\n",
      "But what he can do is he can decide if he accomplish or not the goal.  He's going to select the goal.\n",
      "He's going to select the goal.  He's going to say, \"Okay, I finish,\" but then you're going to receive.\n",
      "He's going to say, \"Okay, I finish,\" but then you're going to receive.  You can check on that phone which goals he said he finish, and then you can give him tokens or points.\n",
      "You can check on that phone which goals he said he finish, and then you can give him tokens or points.  After that, you can exchange those tokens for rewards.\n",
      "After that, you can exchange those tokens for rewards. This is a very similar dynamic that they use in that school, so what we want to do is try to reinforce that, but now at home and see how it's go, but you can also have all the other functionalities right from the smartwatch.\n",
      "This is a very similar dynamic that they use in that school, so what we want to do is try to reinforce that, but now at home and see how it's go, but you can also have all the other functionalities right from the smartwatch.  The next [inaudible 00:10:34] didn't continue with the [inaudible 00:10:36].\n",
      "The next [inaudible 00:10:34] didn't continue with the [inaudible 00:10:36].  If you would like to add another kind of application to that so we can install it, or if you want another kind of functionality, we can try to figure it out, hoping we support.\n",
      "If you would like to add another kind of application to that so we can install it, or if you want another kind of functionality, we can try to figure it out, hoping we support. I like the daily or weekly goals.\n",
      "I like the daily or weekly goals.  I think that will help with increasing his activity and everything because we'll let him choose like, \"Hey, what goals do you want to reach this week, or what goals do you want to reach today?\"\n",
      "I think that will help with increasing his activity and everything because we'll let him choose like, \"Hey, what goals do you want to reach this week, or what goals do you want to reach today?\"  But if you can include all the details in an email, that way I can share it with his dad since we're separated, then we both have the same information.\n",
      "But if you can include all the details in an email, that way I can share it with his dad since we're separated, then we both have the same information.  And then, how will we pick up the watch and the phone?\n",
      "And then, how will we pick up the watch and the phone? Yeah, so Aria is going to give you again the smartwatch and the phone, and what we going to do is we going to send all the information in the tutorial to the email [inaudible 00:11:45].\n",
      "Yeah, so Aria is going to give you again the smartwatch and the phone, and what we going to do is we going to send all the information in the tutorial to the email [inaudible 00:11:45].  It is similar [inaudible 00:11:48] the other one, but now we want to explain a little bit more about this new activity, and then if you think it's useful, you going to start using it.\n",
      "It is similar [inaudible 00:11:48] the other one, but now we want to explain a little bit more about this new activity, and then if you think it's useful, you going to start using it. And if not, well, we can figure it out how to improve it.\n",
      "And if not, well, we can figure it out how to improve it. Okay.\n",
      "Okay. And I don't work too far from the school, so if it's easier for me to pick it up at the school, I can pick up the phone and the smartwatch.\n",
      "And I don't work too far from the school, so if it's easier for me to pick it up at the school, I can pick up the phone and the smartwatch. Oh.\n",
      "Oh.  Yeah, sure.\n",
      "Yeah, sure. I think that can work.\n",
      "I think that can work. I live near from the school, too, so it will be [inaudible 00:12:18].\n",
      "I live near from the school, too, so it will be [inaudible 00:12:18].  And yes, so our goal is to return the watches by the third or the fourth week of July.\n",
      "And yes, so our goal is to return the watches by the third or the fourth week of July. Okay, so he's only going to have it for a couple of weeks, because tomorrow is July 1st.\n",
      "Okay, so he's only going to have it for a couple of weeks, because tomorrow is July 1st. No, no, no.\n",
      "No, no, no. Sorry.\n",
      "Sorry. So, he had the smartwatch now?\n",
      "So, he had the smartwatch now? No.\n",
      "No. If he didn't... Yeah, no.\n",
      "If he didn't... Yeah, no. We're going to keep the smartwatch for three weeks, we ask, because we need to finish the application, and then we going to deliver the smartwatch... By the last week of July, we're going to give it to them, and then they going to keep it for kind of two months or so.\n",
      "We're going to keep the smartwatch for three weeks, we ask, because we need to finish the application, and then we going to deliver the smartwatch... By the last week of July, we're going to give it to them, and then they going to keep it for kind of two months or so. Okay, that makes sense.\n",
      "Okay, that makes sense. Yes, sorry.\n",
      "Yes, sorry. No, it's okay.\n",
      "No, it's okay. So, we'll get it towards the later part of July.\n",
      "So, we'll get it towards the later part of July. Yeah.\n",
      "Yeah.  You're going to get it, and then I think it's for two months, but we can extend that period according with the study.\n",
      "You're going to get it, and then I think it's for two months, but we can extend that period according with the study.  According with things go, we're going to decide if they can keep that smartwatch for longer period of time.\n",
      "According with things go, we're going to decide if they can keep that smartwatch for longer period of time. Okay, no worries.\n",
      "Okay, no worries.  You guys know where to find us, and we know where to find you.\n",
      "You guys know where to find us, and we know where to find you. And thank you so much for answer everything that we ask [inaudible 00:13:50] the meetings.\n",
      "And thank you so much for answer everything that we ask [inaudible 00:13:50] the meetings.  Yes.\n",
      "Yes. Of course.\n",
      "Of course.  You're welcome.\n",
      "You're welcome. And sorry about this trouble with the [inaudible 00:13:55].\n",
      "And sorry about this trouble with the [inaudible 00:13:55]. Oh, that's okay.\n",
      "Oh, that's okay. It's part of the new...\n",
      "It's part of the new... Technology.\n",
      "Technology. Technologies, yes.\n",
      "Technologies, yes.  Well, thank you so much.\n",
      "Well, thank you so much.  And if you have any questions, just send me an email and I will be super happy to support you in any way, or if in this time you, I don't know, find some application or say like, \"Oh, I want this and that,\" just let me know, and we're going to try to do our best for that.\n",
      "And if you have any questions, just send me an email and I will be super happy to support you in any way, or if in this time you, I don't know, find some application or say like, \"Oh, I want this and that,\" just let me know, and we're going to try to do our best for that. Okay, perfect.\n",
      "Okay, perfect.  Thank you so much, [crosstalk 00:14:25].\n",
      "Thank you so much, [crosstalk 00:14:25]. Thank you so much.\n",
      "Thank you so much. Have a good day.\n",
      "Have a good day. Nice to meet you.\n",
      "Nice to meet you.  Bye.\n",
      "true\n"
     ]
    }
   ],
   "source": [
    "diff =  list( set(dg_df['Sentence'].values) - set(mg_df['Sentence'].values) )\n",
    "\n",
    "for x,y in zip(dg_df['Sentence'].values, mg_df['Sentence'].values):\n",
    "    if x.strip() == y.strip():\n",
    "        print('true')\n",
    "    else:\n",
    "        print(x,y)\n"
   ]
  },
  {
   "cell_type": "code",
   "execution_count": 83,
   "metadata": {},
   "outputs": [
    {
     "ename": "ValueError",
     "evalue": "Found input variables with inconsistent numbers of samples: [157, 156]",
     "output_type": "error",
     "traceback": [
      "\u001b[0;31m---------------------------------------------------------------------------\u001b[0m",
      "\u001b[0;31mValueError\u001b[0m                                Traceback (most recent call last)",
      "Cell \u001b[0;32mIn[83], line 1\u001b[0m\n\u001b[0;32m----> 1\u001b[0m \u001b[43mcohen_kappa_score\u001b[49m\u001b[43m(\u001b[49m\u001b[43my1\u001b[49m\u001b[43m,\u001b[49m\u001b[43m \u001b[49m\u001b[43my2\u001b[49m\u001b[43m)\u001b[49m\n",
      "File \u001b[0;32m~/Desktop/ChatGpt/deductiveAnalysis/DeductiveThematicAnalysis/venv/lib/python3.9/site-packages/sklearn/utils/_param_validation.py:213\u001b[0m, in \u001b[0;36mvalidate_params.<locals>.decorator.<locals>.wrapper\u001b[0;34m(*args, **kwargs)\u001b[0m\n\u001b[1;32m    207\u001b[0m \u001b[38;5;28;01mtry\u001b[39;00m:\n\u001b[1;32m    208\u001b[0m     \u001b[38;5;28;01mwith\u001b[39;00m config_context(\n\u001b[1;32m    209\u001b[0m         skip_parameter_validation\u001b[38;5;241m=\u001b[39m(\n\u001b[1;32m    210\u001b[0m             prefer_skip_nested_validation \u001b[38;5;129;01mor\u001b[39;00m global_skip_validation\n\u001b[1;32m    211\u001b[0m         )\n\u001b[1;32m    212\u001b[0m     ):\n\u001b[0;32m--> 213\u001b[0m         \u001b[38;5;28;01mreturn\u001b[39;00m \u001b[43mfunc\u001b[49m\u001b[43m(\u001b[49m\u001b[38;5;241;43m*\u001b[39;49m\u001b[43margs\u001b[49m\u001b[43m,\u001b[49m\u001b[43m \u001b[49m\u001b[38;5;241;43m*\u001b[39;49m\u001b[38;5;241;43m*\u001b[39;49m\u001b[43mkwargs\u001b[49m\u001b[43m)\u001b[49m\n\u001b[1;32m    214\u001b[0m \u001b[38;5;28;01mexcept\u001b[39;00m InvalidParameterError \u001b[38;5;28;01mas\u001b[39;00m e:\n\u001b[1;32m    215\u001b[0m     \u001b[38;5;66;03m# When the function is just a wrapper around an estimator, we allow\u001b[39;00m\n\u001b[1;32m    216\u001b[0m     \u001b[38;5;66;03m# the function to delegate validation to the estimator, but we replace\u001b[39;00m\n\u001b[1;32m    217\u001b[0m     \u001b[38;5;66;03m# the name of the estimator by the name of the function in the error\u001b[39;00m\n\u001b[1;32m    218\u001b[0m     \u001b[38;5;66;03m# message to avoid confusion.\u001b[39;00m\n\u001b[1;32m    219\u001b[0m     msg \u001b[38;5;241m=\u001b[39m re\u001b[38;5;241m.\u001b[39msub(\n\u001b[1;32m    220\u001b[0m         \u001b[38;5;124mr\u001b[39m\u001b[38;5;124m\"\u001b[39m\u001b[38;5;124mparameter of \u001b[39m\u001b[38;5;124m\\\u001b[39m\u001b[38;5;124mw+ must be\u001b[39m\u001b[38;5;124m\"\u001b[39m,\n\u001b[1;32m    221\u001b[0m         \u001b[38;5;124mf\u001b[39m\u001b[38;5;124m\"\u001b[39m\u001b[38;5;124mparameter of \u001b[39m\u001b[38;5;132;01m{\u001b[39;00mfunc\u001b[38;5;241m.\u001b[39m\u001b[38;5;18m__qualname__\u001b[39m\u001b[38;5;132;01m}\u001b[39;00m\u001b[38;5;124m must be\u001b[39m\u001b[38;5;124m\"\u001b[39m,\n\u001b[1;32m    222\u001b[0m         \u001b[38;5;28mstr\u001b[39m(e),\n\u001b[1;32m    223\u001b[0m     )\n",
      "File \u001b[0;32m~/Desktop/ChatGpt/deductiveAnalysis/DeductiveThematicAnalysis/venv/lib/python3.9/site-packages/sklearn/metrics/_classification.py:691\u001b[0m, in \u001b[0;36mcohen_kappa_score\u001b[0;34m(y1, y2, labels, weights, sample_weight)\u001b[0m\n\u001b[1;32m    617\u001b[0m \u001b[38;5;129m@validate_params\u001b[39m(\n\u001b[1;32m    618\u001b[0m     {\n\u001b[1;32m    619\u001b[0m         \u001b[38;5;124m\"\u001b[39m\u001b[38;5;124my1\u001b[39m\u001b[38;5;124m\"\u001b[39m: [\u001b[38;5;124m\"\u001b[39m\u001b[38;5;124marray-like\u001b[39m\u001b[38;5;124m\"\u001b[39m],\n\u001b[0;32m   (...)\u001b[0m\n\u001b[1;32m    626\u001b[0m )\n\u001b[1;32m    627\u001b[0m \u001b[38;5;28;01mdef\u001b[39;00m \u001b[38;5;21mcohen_kappa_score\u001b[39m(y1, y2, \u001b[38;5;241m*\u001b[39m, labels\u001b[38;5;241m=\u001b[39m\u001b[38;5;28;01mNone\u001b[39;00m, weights\u001b[38;5;241m=\u001b[39m\u001b[38;5;28;01mNone\u001b[39;00m, sample_weight\u001b[38;5;241m=\u001b[39m\u001b[38;5;28;01mNone\u001b[39;00m):\n\u001b[1;32m    628\u001b[0m \u001b[38;5;250m    \u001b[39m\u001b[38;5;124mr\u001b[39m\u001b[38;5;124;03m\"\"\"Compute Cohen's kappa: a statistic that measures inter-annotator agreement.\u001b[39;00m\n\u001b[1;32m    629\u001b[0m \n\u001b[1;32m    630\u001b[0m \u001b[38;5;124;03m    This function computes Cohen's kappa [1]_, a score that expresses the level\u001b[39;00m\n\u001b[0;32m   (...)\u001b[0m\n\u001b[1;32m    689\u001b[0m \u001b[38;5;124;03m    0.6875\u001b[39;00m\n\u001b[1;32m    690\u001b[0m \u001b[38;5;124;03m    \"\"\"\u001b[39;00m\n\u001b[0;32m--> 691\u001b[0m     confusion \u001b[38;5;241m=\u001b[39m \u001b[43mconfusion_matrix\u001b[49m\u001b[43m(\u001b[49m\u001b[43my1\u001b[49m\u001b[43m,\u001b[49m\u001b[43m \u001b[49m\u001b[43my2\u001b[49m\u001b[43m,\u001b[49m\u001b[43m \u001b[49m\u001b[43mlabels\u001b[49m\u001b[38;5;241;43m=\u001b[39;49m\u001b[43mlabels\u001b[49m\u001b[43m,\u001b[49m\u001b[43m \u001b[49m\u001b[43msample_weight\u001b[49m\u001b[38;5;241;43m=\u001b[39;49m\u001b[43msample_weight\u001b[49m\u001b[43m)\u001b[49m\n\u001b[1;32m    692\u001b[0m     n_classes \u001b[38;5;241m=\u001b[39m confusion\u001b[38;5;241m.\u001b[39mshape[\u001b[38;5;241m0\u001b[39m]\n\u001b[1;32m    693\u001b[0m     sum0 \u001b[38;5;241m=\u001b[39m np\u001b[38;5;241m.\u001b[39msum(confusion, axis\u001b[38;5;241m=\u001b[39m\u001b[38;5;241m0\u001b[39m)\n",
      "File \u001b[0;32m~/Desktop/ChatGpt/deductiveAnalysis/DeductiveThematicAnalysis/venv/lib/python3.9/site-packages/sklearn/utils/_param_validation.py:186\u001b[0m, in \u001b[0;36mvalidate_params.<locals>.decorator.<locals>.wrapper\u001b[0;34m(*args, **kwargs)\u001b[0m\n\u001b[1;32m    184\u001b[0m global_skip_validation \u001b[38;5;241m=\u001b[39m get_config()[\u001b[38;5;124m\"\u001b[39m\u001b[38;5;124mskip_parameter_validation\u001b[39m\u001b[38;5;124m\"\u001b[39m]\n\u001b[1;32m    185\u001b[0m \u001b[38;5;28;01mif\u001b[39;00m global_skip_validation:\n\u001b[0;32m--> 186\u001b[0m     \u001b[38;5;28;01mreturn\u001b[39;00m \u001b[43mfunc\u001b[49m\u001b[43m(\u001b[49m\u001b[38;5;241;43m*\u001b[39;49m\u001b[43margs\u001b[49m\u001b[43m,\u001b[49m\u001b[43m \u001b[49m\u001b[38;5;241;43m*\u001b[39;49m\u001b[38;5;241;43m*\u001b[39;49m\u001b[43mkwargs\u001b[49m\u001b[43m)\u001b[49m\n\u001b[1;32m    188\u001b[0m func_sig \u001b[38;5;241m=\u001b[39m signature(func)\n\u001b[1;32m    190\u001b[0m \u001b[38;5;66;03m# Map *args/**kwargs to the function signature\u001b[39;00m\n",
      "File \u001b[0;32m~/Desktop/ChatGpt/deductiveAnalysis/DeductiveThematicAnalysis/venv/lib/python3.9/site-packages/sklearn/metrics/_classification.py:319\u001b[0m, in \u001b[0;36mconfusion_matrix\u001b[0;34m(y_true, y_pred, labels, sample_weight, normalize)\u001b[0m\n\u001b[1;32m    224\u001b[0m \u001b[38;5;129m@validate_params\u001b[39m(\n\u001b[1;32m    225\u001b[0m     {\n\u001b[1;32m    226\u001b[0m         \u001b[38;5;124m\"\u001b[39m\u001b[38;5;124my_true\u001b[39m\u001b[38;5;124m\"\u001b[39m: [\u001b[38;5;124m\"\u001b[39m\u001b[38;5;124marray-like\u001b[39m\u001b[38;5;124m\"\u001b[39m],\n\u001b[0;32m   (...)\u001b[0m\n\u001b[1;32m    235\u001b[0m     y_true, y_pred, \u001b[38;5;241m*\u001b[39m, labels\u001b[38;5;241m=\u001b[39m\u001b[38;5;28;01mNone\u001b[39;00m, sample_weight\u001b[38;5;241m=\u001b[39m\u001b[38;5;28;01mNone\u001b[39;00m, normalize\u001b[38;5;241m=\u001b[39m\u001b[38;5;28;01mNone\u001b[39;00m\n\u001b[1;32m    236\u001b[0m ):\n\u001b[1;32m    237\u001b[0m \u001b[38;5;250m    \u001b[39m\u001b[38;5;124;03m\"\"\"Compute confusion matrix to evaluate the accuracy of a classification.\u001b[39;00m\n\u001b[1;32m    238\u001b[0m \n\u001b[1;32m    239\u001b[0m \u001b[38;5;124;03m    By definition a confusion matrix :math:`C` is such that :math:`C_{i, j}`\u001b[39;00m\n\u001b[0;32m   (...)\u001b[0m\n\u001b[1;32m    317\u001b[0m \u001b[38;5;124;03m    (0, 2, 1, 1)\u001b[39;00m\n\u001b[1;32m    318\u001b[0m \u001b[38;5;124;03m    \"\"\"\u001b[39;00m\n\u001b[0;32m--> 319\u001b[0m     y_type, y_true, y_pred \u001b[38;5;241m=\u001b[39m \u001b[43m_check_targets\u001b[49m\u001b[43m(\u001b[49m\u001b[43my_true\u001b[49m\u001b[43m,\u001b[49m\u001b[43m \u001b[49m\u001b[43my_pred\u001b[49m\u001b[43m)\u001b[49m\n\u001b[1;32m    320\u001b[0m     \u001b[38;5;28;01mif\u001b[39;00m y_type \u001b[38;5;129;01mnot\u001b[39;00m \u001b[38;5;129;01min\u001b[39;00m (\u001b[38;5;124m\"\u001b[39m\u001b[38;5;124mbinary\u001b[39m\u001b[38;5;124m\"\u001b[39m, \u001b[38;5;124m\"\u001b[39m\u001b[38;5;124mmulticlass\u001b[39m\u001b[38;5;124m\"\u001b[39m):\n\u001b[1;32m    321\u001b[0m         \u001b[38;5;28;01mraise\u001b[39;00m \u001b[38;5;167;01mValueError\u001b[39;00m(\u001b[38;5;124m\"\u001b[39m\u001b[38;5;132;01m%s\u001b[39;00m\u001b[38;5;124m is not supported\u001b[39m\u001b[38;5;124m\"\u001b[39m \u001b[38;5;241m%\u001b[39m y_type)\n",
      "File \u001b[0;32m~/Desktop/ChatGpt/deductiveAnalysis/DeductiveThematicAnalysis/venv/lib/python3.9/site-packages/sklearn/metrics/_classification.py:85\u001b[0m, in \u001b[0;36m_check_targets\u001b[0;34m(y_true, y_pred)\u001b[0m\n\u001b[1;32m     58\u001b[0m \u001b[38;5;28;01mdef\u001b[39;00m \u001b[38;5;21m_check_targets\u001b[39m(y_true, y_pred):\n\u001b[1;32m     59\u001b[0m \u001b[38;5;250m    \u001b[39m\u001b[38;5;124;03m\"\"\"Check that y_true and y_pred belong to the same classification task.\u001b[39;00m\n\u001b[1;32m     60\u001b[0m \n\u001b[1;32m     61\u001b[0m \u001b[38;5;124;03m    This converts multiclass or binary types to a common shape, and raises a\u001b[39;00m\n\u001b[0;32m   (...)\u001b[0m\n\u001b[1;32m     83\u001b[0m \u001b[38;5;124;03m    y_pred : array or indicator matrix\u001b[39;00m\n\u001b[1;32m     84\u001b[0m \u001b[38;5;124;03m    \"\"\"\u001b[39;00m\n\u001b[0;32m---> 85\u001b[0m     \u001b[43mcheck_consistent_length\u001b[49m\u001b[43m(\u001b[49m\u001b[43my_true\u001b[49m\u001b[43m,\u001b[49m\u001b[43m \u001b[49m\u001b[43my_pred\u001b[49m\u001b[43m)\u001b[49m\n\u001b[1;32m     86\u001b[0m     type_true \u001b[38;5;241m=\u001b[39m type_of_target(y_true, input_name\u001b[38;5;241m=\u001b[39m\u001b[38;5;124m\"\u001b[39m\u001b[38;5;124my_true\u001b[39m\u001b[38;5;124m\"\u001b[39m)\n\u001b[1;32m     87\u001b[0m     type_pred \u001b[38;5;241m=\u001b[39m type_of_target(y_pred, input_name\u001b[38;5;241m=\u001b[39m\u001b[38;5;124m\"\u001b[39m\u001b[38;5;124my_pred\u001b[39m\u001b[38;5;124m\"\u001b[39m)\n",
      "File \u001b[0;32m~/Desktop/ChatGpt/deductiveAnalysis/DeductiveThematicAnalysis/venv/lib/python3.9/site-packages/sklearn/utils/validation.py:457\u001b[0m, in \u001b[0;36mcheck_consistent_length\u001b[0;34m(*arrays)\u001b[0m\n\u001b[1;32m    455\u001b[0m uniques \u001b[38;5;241m=\u001b[39m np\u001b[38;5;241m.\u001b[39munique(lengths)\n\u001b[1;32m    456\u001b[0m \u001b[38;5;28;01mif\u001b[39;00m \u001b[38;5;28mlen\u001b[39m(uniques) \u001b[38;5;241m>\u001b[39m \u001b[38;5;241m1\u001b[39m:\n\u001b[0;32m--> 457\u001b[0m     \u001b[38;5;28;01mraise\u001b[39;00m \u001b[38;5;167;01mValueError\u001b[39;00m(\n\u001b[1;32m    458\u001b[0m         \u001b[38;5;124m\"\u001b[39m\u001b[38;5;124mFound input variables with inconsistent numbers of samples: \u001b[39m\u001b[38;5;132;01m%r\u001b[39;00m\u001b[38;5;124m\"\u001b[39m\n\u001b[1;32m    459\u001b[0m         \u001b[38;5;241m%\u001b[39m [\u001b[38;5;28mint\u001b[39m(l) \u001b[38;5;28;01mfor\u001b[39;00m l \u001b[38;5;129;01min\u001b[39;00m lengths]\n\u001b[1;32m    460\u001b[0m     )\n",
      "\u001b[0;31mValueError\u001b[0m: Found input variables with inconsistent numbers of samples: [157, 156]"
     ]
    }
   ],
   "source": [
    "cohen_kappa_score(y1, y2)"
   ]
  },
  {
   "cell_type": "code",
   "execution_count": null,
   "metadata": {},
   "outputs": [],
   "source": []
  }
 ],
 "metadata": {
  "kernelspec": {
   "display_name": "venv",
   "language": "python",
   "name": "python3"
  },
  "language_info": {
   "codemirror_mode": {
    "name": "ipython",
    "version": 3
   },
   "file_extension": ".py",
   "mimetype": "text/x-python",
   "name": "python",
   "nbconvert_exporter": "python",
   "pygments_lexer": "ipython3",
   "version": "3.9.13"
  }
 },
 "nbformat": 4,
 "nbformat_minor": 2
}
